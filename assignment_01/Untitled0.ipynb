{
  "nbformat": 4,
  "nbformat_minor": 0,
  "metadata": {
    "colab": {
      "provenance": [],
      "authorship_tag": "ABX9TyO18tbsj+7c4ue1xP7jlqpf",
      "include_colab_link": true
    },
    "kernelspec": {
      "name": "python3",
      "display_name": "Python 3"
    },
    "language_info": {
      "name": "python"
    }
  },
  "cells": [
    {
      "cell_type": "markdown",
      "metadata": {
        "id": "view-in-github",
        "colab_type": "text"
      },
      "source": [
        "<a href=\"https://colab.research.google.com/github/arthik1699/sample_example-/blob/main/assignment_01/Untitled0.ipynb\" target=\"_parent\"><img src=\"https://colab.research.google.com/assets/colab-badge.svg\" alt=\"Open In Colab\"/></a>"
      ]
    },
    {
      "cell_type": "code",
      "execution_count": null,
      "metadata": {
        "colab": {
          "base_uri": "https://localhost:8080/"
        },
        "id": "8ZDcAAOksi4Y",
        "outputId": "2375cce1-14e0-49ea-ae16-2a5fc8815732"
      },
      "outputs": [
        {
          "output_type": "stream",
          "name": "stdout",
          "text": [
            "Hello World\n"
          ]
        }
      ],
      "source": [
        "print(\"Hello World\")\n"
      ]
    },
    {
      "cell_type": "code",
      "source": [],
      "metadata": {
        "id": "rjutQzgWvPlJ"
      },
      "execution_count": null,
      "outputs": []
    },
    {
      "cell_type": "code",
      "source": [
        "age = 23\n",
        "name = \"arthi\"\n",
        "print(\"my name is\", name,\",\",\"my age is\", age)"
      ],
      "metadata": {
        "id": "JSlCycn9vPyR",
        "outputId": "861bcd36-16d3-47c3-fcf6-6a036e18e2e5",
        "colab": {
          "base_uri": "https://localhost:8080/"
        }
      },
      "execution_count": 2,
      "outputs": [
        {
          "output_type": "stream",
          "name": "stdout",
          "text": [
            "my name is arthi , my age is 23\n"
          ]
        }
      ]
    },
    {
      "cell_type": "markdown",
      "source": [
        "# Hello World\n",
        " "
      ],
      "metadata": {
        "id": "bruhGMYYs0Uo"
      }
    },
    {
      "cell_type": "code",
      "source": [
        "age = \"23\"\n",
        "print(\"my name is \" +name+ \", \" + \"my age is \"+ age)"
      ],
      "metadata": {
        "id": "fvG5eM38wRCC",
        "outputId": "34ceb0f7-6288-44b7-feae-f69fac10d846",
        "colab": {
          "base_uri": "https://localhost:8080/"
        }
      },
      "execution_count": 7,
      "outputs": [
        {
          "output_type": "stream",
          "name": "stdout",
          "text": [
            "my name is arthi, my age is 23\n"
          ]
        }
      ]
    }
  ]
}