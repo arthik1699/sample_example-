{
  "nbformat": 4,
  "nbformat_minor": 0,
  "metadata": {
    "colab": {
      "provenance": [],
      "authorship_tag": "ABX9TyPtzotRZGArJmRcnKfawRY+",
      "include_colab_link": true
    },
    "kernelspec": {
      "name": "python3",
      "display_name": "Python 3"
    },
    "language_info": {
      "name": "python"
    }
  },
  "cells": [
    {
      "cell_type": "markdown",
      "metadata": {
        "id": "view-in-github",
        "colab_type": "text"
      },
      "source": [
        "<a href=\"https://colab.research.google.com/github/arthik1699/sample_example-/blob/main/Data_690_session02.ipynb\" target=\"_parent\"><img src=\"https://colab.research.google.com/assets/colab-badge.svg\" alt=\"Open In Colab\"/></a>"
      ]
    },
    {
      "cell_type": "code",
      "execution_count": null,
      "metadata": {
        "id": "29wZLg02c44d"
      },
      "outputs": [],
      "source": []
    },
    {
      "cell_type": "code",
      "source": [
        "Data690_Session02"
      ],
      "metadata": {
        "colab": {
          "base_uri": "https://localhost:8080/",
          "height": 166
        },
        "id": "vNHOztMUdAST",
        "outputId": "673d7176-099c-43b5-b8de-70abbcbb9468"
      },
      "execution_count": null,
      "outputs": [
        {
          "output_type": "error",
          "ename": "NameError",
          "evalue": "ignored",
          "traceback": [
            "\u001b[0;31m---------------------------------------------------------------------------\u001b[0m",
            "\u001b[0;31mNameError\u001b[0m                                 Traceback (most recent call last)",
            "\u001b[0;32m<ipython-input-1-e1c11123af36>\u001b[0m in \u001b[0;36m<module>\u001b[0;34m\u001b[0m\n\u001b[0;32m----> 1\u001b[0;31m \u001b[0mData690_Session02\u001b[0m\u001b[0;34m\u001b[0m\u001b[0;34m\u001b[0m\u001b[0m\n\u001b[0m",
            "\u001b[0;31mNameError\u001b[0m: name 'Data690_Session02' is not defined"
          ]
        }
      ]
    },
    {
      "cell_type": "markdown",
      "source": [
        "Data_690_session_02\n",
        "\n",
        "- date - 9/8/2022\n"
      ],
      "metadata": {
        "id": "_gM8eWkDdNTx"
      }
    },
    {
      "cell_type": "markdown",
      "source": [],
      "metadata": {
        "id": "L0ccpESwdXno"
      }
    },
    {
      "cell_type": "markdown",
      "source": [],
      "metadata": {
        "id": "qflFoE2ldaLY"
      }
    },
    {
      "cell_type": "code",
      "source": [
        "\n",
        "\n",
        "years = \"1/11/1997 1991 2000 1969 1999 1998 1993 1996 1999 1997 1996 1998 1995 1999 1999 1997 1996 1996 1997 1995 1997 1999 2000\"\n",
        "\n",
        "print(\"Birth Years of Students \", years)\n"
      ],
      "metadata": {
        "colab": {
          "base_uri": "https://localhost:8080/"
        },
        "id": "zM0sO981eh9r",
        "outputId": "339b626d-21ac-420e-adef-179e6d60696e"
      },
      "execution_count": null,
      "outputs": [
        {
          "output_type": "stream",
          "name": "stdout",
          "text": [
            "Birth Years of Students  1/11/1997 1991 2000 1969 1999 1998 1993 1996 1999 1997 1996 1998 1995 1999 1999 1997 1996 1996 1997 1995 1997 1999 2000\n"
          ]
        }
      ]
    },
    {
      "cell_type": "code",
      "source": [
        "type(years)"
      ],
      "metadata": {
        "colab": {
          "base_uri": "https://localhost:8080/"
        },
        "id": "icRwXhhJfc2Q",
        "outputId": "1f626c0e-dcf8-4f47-cadc-e50b12ebeac7"
      },
      "execution_count": null,
      "outputs": [
        {
          "output_type": "execute_result",
          "data": {
            "text/plain": [
              "str"
            ]
          },
          "metadata": {},
          "execution_count": 3
        }
      ]
    },
    {
      "cell_type": "code",
      "source": [
        "years_split = years.split(\" \")\n",
        "print(years_split)"
      ],
      "metadata": {
        "colab": {
          "base_uri": "https://localhost:8080/"
        },
        "id": "n39PECoIfnQF",
        "outputId": "f1179b50-4085-432a-cc93-9b32f726f030"
      },
      "execution_count": null,
      "outputs": [
        {
          "output_type": "stream",
          "name": "stdout",
          "text": [
            "['1/11/1997', '1991', '2000', '1969', '1999', '1998', '1993', '1996', '1999', '1997', '1996', '1998', '1995', '1999', '1999', '1997', '1996', '1996', '1997', '1995', '1997', '1999', '2000']\n"
          ]
        }
      ]
    },
    {
      "cell_type": "code",
      "source": [
        "x =  [\"manish\", \"arthi\", \"honey\", \"jai\"]\n",
        "type(x)"
      ],
      "metadata": {
        "colab": {
          "base_uri": "https://localhost:8080/"
        },
        "id": "NApgFHAbg5kW",
        "outputId": "ca5b2691-31b6-4c9a-deae-da2277936a72"
      },
      "execution_count": null,
      "outputs": [
        {
          "output_type": "execute_result",
          "data": {
            "text/plain": [
              "list"
            ]
          },
          "metadata": {},
          "execution_count": 7
        }
      ]
    },
    {
      "cell_type": "code",
      "source": [
        "y = [2.4, 12, -7, 11, 6]\n",
        "type(y)"
      ],
      "metadata": {
        "colab": {
          "base_uri": "https://localhost:8080/"
        },
        "id": "VkxH-8JAhKuK",
        "outputId": "a5f39af6-9165-4e03-bd0d-f07f531b9a4c"
      },
      "execution_count": null,
      "outputs": [
        {
          "output_type": "execute_result",
          "data": {
            "text/plain": [
              "list"
            ]
          },
          "metadata": {},
          "execution_count": 8
        }
      ]
    },
    {
      "cell_type": "code",
      "source": [
        "total = 0\n",
        "\n",
        "for number in y:\n",
        "    total = total+number\n",
        "\n",
        "print(\"Sum of y = \", total)\n",
        "\n",
        "print(\"Length of the list is = \", len(y))\n",
        "\n",
        "print(\"Mean of the list is = \", total/len(y))"
      ],
      "metadata": {
        "colab": {
          "base_uri": "https://localhost:8080/"
        },
        "id": "RuAmgN3nhUP2",
        "outputId": "d2bd8d57-2f1e-4c61-af5c-6bf10d684456"
      },
      "execution_count": null,
      "outputs": [
        {
          "output_type": "stream",
          "name": "stdout",
          "text": [
            "Sum of y =  24.4\n",
            "Length of the list is =  5\n",
            "Mean of the list is =  4.88\n"
          ]
        }
      ]
    },
    {
      "cell_type": "code",
      "source": [
        "y[0]"
      ],
      "metadata": {
        "colab": {
          "base_uri": "https://localhost:8080/"
        },
        "id": "1e1Hai-DiMWP",
        "outputId": "815733fe-7f5c-45d6-f65e-6b1b9903d3fa"
      },
      "execution_count": null,
      "outputs": [
        {
          "output_type": "execute_result",
          "data": {
            "text/plain": [
              "2.4"
            ]
          },
          "metadata": {},
          "execution_count": 10
        }
      ]
    },
    {
      "cell_type": "code",
      "source": [
        "abandoned_list = years_split.pop(0)\n",
        "\n",
        "print(abandoned_list)"
      ],
      "metadata": {
        "colab": {
          "base_uri": "https://localhost:8080/"
        },
        "id": "eRhPnOxqkOzV",
        "outputId": "4d9cb0f8-3902-4891-e582-2b173e773b7d"
      },
      "execution_count": null,
      "outputs": [
        {
          "output_type": "stream",
          "name": "stdout",
          "text": [
            "1/11/1997\n"
          ]
        }
      ]
    },
    {
      "cell_type": "code",
      "source": [
        "print(years_split)"
      ],
      "metadata": {
        "colab": {
          "base_uri": "https://localhost:8080/"
        },
        "id": "sZp4C-ntkn2n",
        "outputId": "9430bb90-3543-40f2-b6a6-38afc99d0051"
      },
      "execution_count": null,
      "outputs": [
        {
          "output_type": "stream",
          "name": "stdout",
          "text": [
            "['1991', '2000', '1969', '1999', '1998', '1993', '1996', '1999', '1997', '1996', '1998', '1995', '1999', '1999', '1997', '1996', '1996', '1997', '1995', '1997', '1999', '2000']\n"
          ]
        }
      ]
    },
    {
      "cell_type": "code",
      "source": [
        "total = 0;\n",
        "\n",
        "for year in years_split:\n",
        "    total = total + year\n",
        "\n",
        "\n"
      ],
      "metadata": {
        "id": "b7mxMfn0ks13"
      },
      "execution_count": null,
      "outputs": []
    },
    {
      "cell_type": "code",
      "source": [
        "#to find the cuurent year in python\n",
        "from datetime import date\n",
        "\n",
        "current_year = date.today().year\n",
        "print(current_year)"
      ],
      "metadata": {
        "colab": {
          "base_uri": "https://localhost:8080/"
        },
        "id": "gnDejKcMlBf1",
        "outputId": "113ae8f1-39a4-4fe9-9f6f-c79f58aabab0"
      },
      "execution_count": null,
      "outputs": [
        {
          "output_type": "stream",
          "name": "stdout",
          "text": [
            "2022\n"
          ]
        }
      ]
    },
    {
      "cell_type": "code",
      "source": [
        "from datetime import date\n",
        "\n",
        "current_year = date.today().year\n",
        "print(current_year)\n",
        "\n",
        "total = 0;\n",
        "\n",
        "for birth_year in years_split:\n",
        "    age = current_year - int(birth_year)\n",
        "    total = total + age\n",
        "\n",
        "\n",
        "\n",
        "print(\"Total age is\", total)\n",
        "\n"
      ],
      "metadata": {
        "colab": {
          "base_uri": "https://localhost:8080/"
        },
        "id": "3-n5AVmbllfp",
        "outputId": "3c77a135-9894-4f64-f6c5-68dfaf2a9f26"
      },
      "execution_count": null,
      "outputs": [
        {
          "output_type": "stream",
          "name": "stdout",
          "text": [
            "2022\n",
            "Total age is 578\n"
          ]
        }
      ]
    },
    {
      "cell_type": "code",
      "source": [
        "average_age = total / len(years_split)\n",
        "\n",
        "print(\"Average age is\", average_age)"
      ],
      "metadata": {
        "colab": {
          "base_uri": "https://localhost:8080/"
        },
        "id": "7n0plil3m97J",
        "outputId": "9536f30c-7226-49f8-f5e8-bb8add40b55f"
      },
      "execution_count": null,
      "outputs": [
        {
          "output_type": "stream",
          "name": "stdout",
          "text": [
            "Average age is 26.272727272727273\n"
          ]
        }
      ]
    },
    {
      "cell_type": "code",
      "source": [],
      "metadata": {
        "id": "Vq9W2EWWf1TT"
      },
      "execution_count": null,
      "outputs": []
    },
    {
      "cell_type": "code",
      "source": [
        "years = \"1/11/1997 1991 2000 1969 1999 1998 1993 1996 1999 1997 1996 1998 1995 1999 1999 1997 1996 1996 1997 1995 1997 1999 2000\"\n"
      ],
      "metadata": {
        "id": "lHbKF3Y7uG3w"
      },
      "execution_count": null,
      "outputs": []
    },
    {
      "cell_type": "markdown",
      "source": [
        "# Approach 2 "
      ],
      "metadata": {
        "id": "11jPA6bFuTbj"
      }
    },
    {
      "cell_type": "code",
      "source": [
        "years = \"1/11/1997 1991 2000 1969 1999 1998 1993 1996 1999 1997 1996 1998 1995 1999 1999 1997 1996 1996 1997 1995 1997 1999 2000\"\n",
        "\n",
        "years_split = years.split(\" \")\n",
        "print(years_split)"
      ],
      "metadata": {
        "colab": {
          "base_uri": "https://localhost:8080/"
        },
        "id": "40QVgUChuZ33",
        "outputId": "40c9590c-3299-425a-caed-222709991c6b"
      },
      "execution_count": 18,
      "outputs": [
        {
          "output_type": "stream",
          "name": "stdout",
          "text": [
            "['1/11/1997', '1991', '2000', '1969', '1999', '1998', '1993', '1996', '1999', '1997', '1996', '1998', '1995', '1999', '1999', '1997', '1996', '1996', '1997', '1995', '1997', '1999', '2000']\n"
          ]
        }
      ]
    },
    {
      "cell_type": "code",
      "source": [
        "years_split[0] = \"1997\"\n",
        "\n",
        "print(years_split)"
      ],
      "metadata": {
        "colab": {
          "base_uri": "https://localhost:8080/"
        },
        "id": "Y-gM98kbugw8",
        "outputId": "0a8ffd3a-2167-40b8-e93b-0b3db38cfce2"
      },
      "execution_count": 19,
      "outputs": [
        {
          "output_type": "stream",
          "name": "stdout",
          "text": [
            "['1997', '1991', '2000', '1969', '1999', '1998', '1993', '1996', '1999', '1997', '1996', '1998', '1995', '1999', '1999', '1997', '1996', '1996', '1997', '1995', '1997', '1999', '2000']\n"
          ]
        }
      ]
    },
    {
      "cell_type": "code",
      "source": [
        "from datetime import date\n",
        "\n",
        "current_year = date.today().year\n",
        "print(current_year)\n",
        "\n",
        "total = 0;\n",
        "\n",
        "for birth_year in years_split:\n",
        "    age = current_year - int(birth_year)\n",
        "    total = total + age\n",
        "\n",
        "\n",
        "\n",
        "print(\"Total age is\", total)\n",
        "\n",
        "\n",
        "average_age = total / len(years_split)\n",
        "\n",
        "print(\"Average age is\", average_age)\n"
      ],
      "metadata": {
        "colab": {
          "base_uri": "https://localhost:8080/"
        },
        "id": "6oYGsmNYu42j",
        "outputId": "3569bffe-823b-4eee-fd1f-2d54b8d3710c"
      },
      "execution_count": 20,
      "outputs": [
        {
          "output_type": "stream",
          "name": "stdout",
          "text": [
            "2022\n",
            "Total age is 603\n",
            "Average age is 26.217391304347824\n"
          ]
        }
      ]
    },
    {
      "cell_type": "markdown",
      "source": [
        "# Approach 3 - Handling exceptions"
      ],
      "metadata": {
        "id": "sJdwRIfWwA5V"
      }
    },
    {
      "cell_type": "code",
      "source": [
        "years = \"1/11/1997 1991 2000 1969 1999 1998 1993 1996 1999 1997 1996 1998 1995 1999 1999 1997 1996 1996 1997 1995 1997 1999 2000\"\n",
        "\n",
        "years_split = years.split(\" \")\n",
        "print(years_split)"
      ],
      "metadata": {
        "colab": {
          "base_uri": "https://localhost:8080/"
        },
        "id": "-zUf0OKiwG72",
        "outputId": "a62a5ae7-c0a2-49d3-a0bd-769283c24213"
      },
      "execution_count": 21,
      "outputs": [
        {
          "output_type": "stream",
          "name": "stdout",
          "text": [
            "['1/11/1997', '1991', '2000', '1969', '1999', '1998', '1993', '1996', '1999', '1997', '1996', '1998', '1995', '1999', '1999', '1997', '1996', '1996', '1997', '1995', '1997', '1999', '2000']\n"
          ]
        }
      ]
    },
    {
      "cell_type": "code",
      "source": [
        "from datetime import date\n",
        "\n",
        "current_year = date.today().year\n",
        "print(current_year)\n",
        "\n",
        "total = 0;\n",
        "count = 0\n",
        "for birth_year in years_split:\n",
        "    try:\n",
        "        year_int = int(birth_year)\n",
        "    except:\n",
        "        continue\n",
        "\n",
        "  \n",
        "    age = current_year - year_int\n",
        "    total = total + age\n",
        "    count = count + 1\n",
        "\n",
        "\n",
        "\n",
        "print(\"Total age is\", total)\n",
        "\n",
        "print(\"Count of Students is\", count)\n",
        "\n",
        "\n",
        "average_age = total/count\n",
        "\n",
        "print(\"Average age is\", average_age)"
      ],
      "metadata": {
        "colab": {
          "base_uri": "https://localhost:8080/"
        },
        "id": "TNX3pJZ1wQNm",
        "outputId": "05c3c623-10da-4f13-ac05-caded6ee0d38"
      },
      "execution_count": 24,
      "outputs": [
        {
          "output_type": "stream",
          "name": "stdout",
          "text": [
            "2022\n",
            "Total age is 578\n",
            "Count of Students is 22\n",
            "Average age is 26.272727272727273\n"
          ]
        }
      ]
    },
    {
      "cell_type": "code",
      "source": [
        "years = \"1/11/1997 1991 2000 1969 1999 1998 1887 1996 1999 1997 1996 2016 1995 1999 1999 1997 1996 1996 1997 1995 1997 1999 2000\"\n",
        "\n",
        "years_split = years.split(\" \")\n",
        "print(years_split)\n",
        "\n",
        "\n",
        "\n",
        "\n",
        "\n",
        "from datetime import date\n",
        "\n",
        "current_year = date.today().year\n",
        "print(current_year)\n",
        "\n",
        "total = 0;\n",
        "count = 0\n",
        "for birth_year in years_split:\n",
        "    try:\n",
        "        year_int = int(birth_year)\n",
        "    except:\n",
        "        continue\n",
        "\n",
        "  \n",
        "    age = current_year - year_int\n",
        "\n",
        "    if age>80:\n",
        "      print(\"Skip this person age>80\", age)\n",
        "      continue\n",
        "    elif age<10:\n",
        "      print(\"Skip this kid's age<10\", age)\n",
        "      continue\n",
        "    \n",
        "    total = total + age\n",
        "    count = count + 1\n",
        "\n",
        "\n",
        "\n",
        "print(\"Total age is\", total)\n",
        "\n",
        "print(\"Count of Students is\", count)\n",
        "\n",
        "\n",
        "average_age = total/count\n",
        "\n",
        "print(\"Average age is\", average_age)"
      ],
      "metadata": {
        "colab": {
          "base_uri": "https://localhost:8080/"
        },
        "id": "X-JalHWRyKXY",
        "outputId": "09b9b9ec-3dba-4d2d-b195-f62e6328e883"
      },
      "execution_count": 28,
      "outputs": [
        {
          "output_type": "stream",
          "name": "stdout",
          "text": [
            "['1/11/1997', '1991', '2000', '1969', '1999', '1998', '1887', '1996', '1999', '1997', '1996', '2016', '1995', '1999', '1999', '1997', '1996', '1996', '1997', '1995', '1997', '1999', '2000']\n",
            "2022\n",
            "Skip this person age>80 135\n",
            "Skip this kid's age<10 6\n",
            "Total age is 525\n",
            "Count of Students is 20\n",
            "Average age is 26.25\n"
          ]
        }
      ]
    },
    {
      "cell_type": "markdown",
      "source": [
        "# Misc"
      ],
      "metadata": {
        "id": "UFUu1VK00XGe"
      }
    },
    {
      "cell_type": "code",
      "source": [
        "count = 0\n",
        "\n",
        "while True:\n",
        "  if count == 10:\n",
        "    break\n",
        "\n",
        "  try:\n",
        "    x = int(input(\"Enter an integer : \"))\n",
        "    count = count + 1\n",
        "  except:\n",
        "      print(\"You need to enter an integer, please try again\")"
      ],
      "metadata": {
        "colab": {
          "base_uri": "https://localhost:8080/"
        },
        "id": "34hXOoSu2wWd",
        "outputId": "c49d3794-82d8-4629-cb5b-d84b6549cfab"
      },
      "execution_count": 31,
      "outputs": [
        {
          "name": "stdout",
          "output_type": "stream",
          "text": [
            "Enter an integer : 1\n",
            "Enter an integer : 2\n",
            "Enter an integer : 3\n",
            "Enter an integer : 4\n",
            "Enter an integer : 5\n",
            "Enter an integer : 6\n",
            "Enter an integer : 7\n",
            "Enter an integer : 8\n",
            "Enter an integer : 9\n",
            "Enter an integer : 10\n"
          ]
        }
      ]
    },
    {
      "cell_type": "code",
      "source": [],
      "metadata": {
        "id": "E8rmYn2Z2zHc"
      },
      "execution_count": null,
      "outputs": []
    }
  ]
}